{
 "metadata": {
  "language_info": {
   "codemirror_mode": {
    "name": "ipython",
    "version": 3
   },
   "file_extension": ".py",
   "mimetype": "text/x-python",
   "name": "python",
   "nbconvert_exporter": "python",
   "pygments_lexer": "ipython3",
   "version": "3.7.1-final"
  },
  "orig_nbformat": 2,
  "kernelspec": {
   "name": "python3",
   "display_name": "Python 3",
   "language": "python"
  }
 },
 "nbformat": 4,
 "nbformat_minor": 2,
 "cells": [
  {
   "cell_type": "code",
   "execution_count": 30,
   "metadata": {},
   "outputs": [],
   "source": [
    "def gradient_step(current_b, current_m, points, learningRate):\n",
    "    totalPoints = len(points)\n",
    "    stepped_b = 0\n",
    "    stepped_m = 0\n",
    "\n",
    "    for point in points:\n",
    "        x = point[0]\n",
    "        y = point[1]\n",
    "        stepped_b += -(2 / totalPoints) * (y - ((current_m * x) + current_b))\n",
    "        stepped_m += -(2 / totalPoints) * x * (y - ((current_m * x) + current_b))\n",
    "    \n",
    "    \n",
    "    new_b = current_b - (learningRate * stepped_b)\n",
    "    new_m = current_m - (learningRate * stepped_m)\n",
    "    print (new_b)\n",
    "    print(new_m)\n",
    "    return new_b, new_m "
   ]
  },
  {
   "cell_type": "code",
   "execution_count": 31,
   "metadata": {},
   "outputs": [],
   "source": [
    "def gradient_descent_process(points, initial_b, initial_m, learningRate, totalIteration):    \n",
    "    for i in range(0, totalIteration):\n",
    "        initial_b, initial_m = gradient_step(initial_b, initial_m, points, learningRate)\n",
    "        \n",
    "    return initial_b, initial_m; "
   ]
  },
  {
   "cell_type": "code",
   "execution_count": 32,
   "metadata": {
    "tags": []
   },
   "outputs": [
    {
     "output_type": "stream",
     "name": "stdout",
     "text": [
      "0.4\n0.9333333333333332\n0.34666666666666673\n0.8355555555555555\n0.3431111111111112\n0.8503703703703703\n0.3343407407407408\n0.8527802469135801\n0.32636049382716065\n0.8564490534979424\n0.3185087736625516\n0.8598857393689986\n0.3108527231824419\n0.863255539826246\n0.3033799626154551\n0.8665426133821063\n0.2960869247395216\n0.8697508558459585\n0.28896919745323385\n0.8728819538272552\n0.28896919745323385\n0.8728819538272552\n"
     ]
    }
   ],
   "source": [
    "learningRate = 0.1\n",
    "totalIteration = 10 \n",
    "initialValue = [0,0]\n",
    "points = [[1, 1], [2, 2], [3,3]]\n",
    "\n",
    "b, m = gradient_descent_process(points, initialValue[0], initialValue[1], learningRate, totalIteration)\n",
    "print (b)\n",
    "print (m)"
   ]
  },
  {
   "cell_type": "code",
   "execution_count": null,
   "metadata": {},
   "outputs": [],
   "source": []
  }
 ]
}